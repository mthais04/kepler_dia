{
 "cells": [
  {
   "cell_type": "markdown",
   "metadata": {},
   "source": [
    "# opening a fits"
   ]
  },
  {
   "cell_type": "markdown",
   "metadata": {},
   "source": [
    "### Há 53 FFIs ao total. Cada FFI possui 84 subfits (85 valores já que um é do header básico). Dentro de cada FFI vou achar o valor de background e modificar a matrizes para se tornarem quadradas. "
   ]
  },
  {
   "cell_type": "code",
   "execution_count": 19,
   "metadata": {},
   "outputs": [],
   "source": [
    "#https://archive.stsci.edu/kepler/ffi_display.php\n",
    "#https://photutils.readthedocs.io/en/stable/background.html\n",
    "\n",
    "#git fetch --all\n",
    "\n",
    "#git reset --hard origin/master\n",
    "\n",
    "#imclean = imclean[:-1,:-1]"
   ]
  },
  {
   "cell_type": "code",
   "execution_count": 26,
   "metadata": {},
   "outputs": [],
   "source": [
    "# bibliotecas a serem baixadas\n",
    "%matplotlib inline                           \n",
    "%config InlineBackend.figure_format='retina'       # Melhora a resolucao do plot\n",
    "from IPython.core.display import display, HTML\n",
    "#display(HTML(\"<style>.container { width:100% !important; }</style>\"))\n",
    "import matplotlib.pylab as plt                     # Permite fazer plots utilizando o pacote matplotlib\n",
    "plt.rcParams['figure.figsize'] = (18.0, 18.0)      # Determina o tamanho do plot dentro do ipython notebook\n",
    "from astropy.io import fits, votable               # Permite carregar arquivos fits e votable\n",
    "from astropy.table import Table                    # Permite carregar tabelas\n",
    "from astropy import wcs                            # Importa o pacote World Coordinate System\n",
    "import numpy as np         \n",
    "\n",
    "\n",
    "#this program will apply the bias subtraction,\n",
    "#flat fielding and subtract the gradient background,\n",
    "#it will also align the images to the first image in the list\n",
    "\n",
    "#if you use this code, please cite Oelkers et al. 2015, AJ, 149, 50\n",
    "import scipy\n",
    "from scipy import stats\n",
    "import scipy.ndimage as ndimage\n",
    "import astropy\n",
    "from astropy.io import fits\n",
    "from astropy.nddata.utils import Cutout2D\n",
    "from astropy.wcs import WCS\n",
    "import math\n",
    "import time\n",
    "\n",
    "#libraries for image registration\n",
    "import FITS_tools\n",
    "from FITS_tools.hcongrid import hcongrid\n",
    "\n",
    "#import relevant libraries for a list\n",
    "import glob, os\n",
    "from os import listdir\n",
    "from os.path import isfile, join\n",
    "\n",
    "#import relevant spline libraries\n",
    "from scipy.interpolate import Rbf\n",
    "\n",
    "from astropy.stats import biweight_location"
   ]
  },
  {
   "cell_type": "code",
   "execution_count": 27,
   "metadata": {},
   "outputs": [],
   "source": [
    "#definir se é sonic ou usuario\n",
    "\n",
    "#user = 'sonic'\n",
    "user = 'usuario'"
   ]
  },
  {
   "cell_type": "code",
   "execution_count": 28,
   "metadata": {},
   "outputs": [
    {
     "name": "stdout",
     "output_type": "stream",
     "text": [
      "(1070, 1132)\n",
      "85\n"
     ]
    }
   ],
   "source": [
    "#exemplo de como abrir um fits\n",
    "hdulist = fits.open('/home/' + user + '/Documents/Mestrado/FFIs/8_golden/kplr2009114174833_ffi-cal.fits')\n",
    "data = hdulist[1].data\n",
    "#print(data)\n",
    "print(data.shape)\n",
    "data = [1,2,3]\n",
    "\n",
    "print(len(hdulist))\n",
    "# shd = fits.PrimaryHDU(data, header=hdulist[1].header)\n",
    "# shd.writeto('/home/' + user + '/Documents/Mestrado/FFIs/8_golden/teste/teste.fits', overwrite = True)\n",
    "# hdulist[1].header\n",
    "#from astropy.stats import sigma_clipped_stats\n",
    "# mean, median, std = sigma_clipped_stats(data, sigma=3.0)\n",
    "# print((mean, median, std)) \n",
    "#from astropy.stats import biweight_location\n",
    "#print(biweight_location(data)) \n",
    "#data[1043]==data[-27]\n",
    "#hdulist.info()"
   ]
  },
  {
   "cell_type": "markdown",
   "metadata": {},
   "source": [
    "## criar lista de ffis a serem abertos "
   ]
  },
  {
   "cell_type": "markdown",
   "metadata": {},
   "source": [
    "### programa em bash\n",
    "#!/usr/bin/env bash\n",
    "\n",
    "cd\n",
    "if [ -a golden.txt ];\n",
    "\tthen rm golden.txt\n",
    "fi\n",
    "\n",
    "#para printar os files sem os caminhos\n",
    "#find /home/sonic/Documents/Mestrado/FFIs/8_golden/*.fits -type f -execdir basename '{}' ';'  > /home/sonic/dia_kepler/mychanges/Python/golden.txt\n",
    "\n",
    "#para printar os files com os caminhos\n",
    "find /home/sonic/Documents/Mestrado/FFIs/8_golden/*.fits -type f > /home/sonic/dia_kepler/mychanges/Python/golden.txt\n",
    "\n",
    "find /home/sonic/Documents/Mestrado/FFIs/*.fits -type f > /home/sonic/dia_kepler/mychanges/Python/allffis.txt"
   ]
  },
  {
   "cell_type": "code",
   "execution_count": 29,
   "metadata": {},
   "outputs": [
    {
     "data": {
      "text/plain": [
       "array(['/home/usuario/Documents/Mestrado/FFIs/8_golden/kplr2009114174833_ffi-cal.fits',\n",
       "       '/home/usuario/Documents/Mestrado/FFIs/8_golden/kplr2009114204835_ffi-cal.fits',\n",
       "       '/home/usuario/Documents/Mestrado/FFIs/8_golden/kplr2009115002613_ffi-cal.fits',\n",
       "       '/home/usuario/Documents/Mestrado/FFIs/8_golden/kplr2009115053616_ffi-cal.fits',\n",
       "       '/home/usuario/Documents/Mestrado/FFIs/8_golden/kplr2009115080620_ffi-cal.fits',\n",
       "       '/home/usuario/Documents/Mestrado/FFIs/8_golden/kplr2009115131122_ffi-cal.fits',\n",
       "       '/home/usuario/Documents/Mestrado/FFIs/8_golden/kplr2009115173611_ffi-cal.fits',\n",
       "       '/home/usuario/Documents/Mestrado/FFIs/8_golden/kplr2009116035924_ffi-cal.fits'],\n",
       "      dtype='<U77')"
      ]
     },
     "execution_count": 29,
     "metadata": {},
     "output_type": "execute_result"
    }
   ],
   "source": [
    "arquivos = !find *.txt\n",
    "arquivos\n",
    "arq=[]\n",
    "for l in arquivos:\n",
    "    with open(l) as f:\n",
    "        arq.append(f.read().splitlines())\n",
    "for y in range(len(arq)):\n",
    "     arq[y] = np.sort(arq[y])\n",
    "allffis = arq[0]\n",
    "golden = arq[1]\n",
    "golden\n",
    "golden[0].split('/')[-1]\n",
    "golden"
   ]
  },
  {
   "cell_type": "markdown",
   "metadata": {},
   "source": [
    "## Achando background"
   ]
  },
  {
   "cell_type": "markdown",
   "metadata": {},
   "source": [
    "### Kepler CCD\n",
    "<img src=\"CCD_blockdiagram1.jpg\">\n",
    "### Tess CCD\n",
    "<img src=\"./tess_ccd.png\">"
   ]
  },
  {
   "cell_type": "code",
   "execution_count": 34,
   "metadata": {},
   "outputs": [
    {
     "ename": "IndexError",
     "evalue": "index 1100 is out of bounds for axis 1 with size 1100",
     "output_type": "error",
     "traceback": [
      "\u001b[0;31m---------------------------------------------------------------------------\u001b[0m",
      "\u001b[0;31mIndexError\u001b[0m                                Traceback (most recent call last)",
      "\u001b[0;32m<ipython-input-34-752ae280a4ec>\u001b[0m in \u001b[0;36m<module>\u001b[0;34m()\u001b[0m\n\u001b[1;32m     13\u001b[0m \u001b[0;31m#     shd.writeto('/home/' + user + '/Documents/Mestrado/FFIs/8_golden/teste/'+ i.split('/')[-1]+'.fits', overwrite = True)\u001b[0m\u001b[0;34m\u001b[0m\u001b[0;34m\u001b[0m\u001b[0m\n\u001b[1;32m     14\u001b[0m \u001b[0;31m#         hdulist[1].header\u001b[0m\u001b[0;34m\u001b[0m\u001b[0;34m\u001b[0m\u001b[0m\n\u001b[0;32m---> 15\u001b[0;31m \u001b[0mprint\u001b[0m\u001b[0;34m(\u001b[0m\u001b[0mdata2\u001b[0m\u001b[0;34m[\u001b[0m\u001b[0;36m0\u001b[0m\u001b[0;34m,\u001b[0m\u001b[0;36m1100\u001b[0m\u001b[0;34m]\u001b[0m\u001b[0;34m)\u001b[0m\u001b[0;34m\u001b[0m\u001b[0m\n\u001b[0m",
      "\u001b[0;31mIndexError\u001b[0m: index 1100 is out of bounds for axis 1 with size 1100"
     ]
    }
   ],
   "source": [
    "# Rodar apenas uma vez\n",
    "## consertando as matrizes - cortando linhas e colunas ruins + transformando em matriz quadrada\n",
    "\n",
    "for i in golden:\n",
    "    hdulist = fits.open(i)\n",
    "    for j in range(1,len(hdulist)):#      cada uma das 84 imagens\n",
    "        data = hdulist[j].data\n",
    "        sky = biweight_location(data)\n",
    "        data2 = data[20:1044,12:1112]\n",
    "#devo \n",
    "#         shd = fits.PrimaryHDU(data, header=hdulist[j].header) #esse e o de baixo será esta posição?\n",
    "#     shd.writeto('/home/' + user + '/Documents/Mestrado/FFIs/8_golden/teste/'+ i.split('/')[-1]+'.fits', overwrite = True)\n",
    "#         hdulist[1].header\n",
    "print(data2[0,1100])"
   ]
  },
  {
   "cell_type": "code",
   "execution_count": null,
   "metadata": {},
   "outputs": [],
   "source": [
    "data.shape"
   ]
  },
  {
   "cell_type": "code",
   "execution_count": null,
   "metadata": {
    "scrolled": true
   },
   "outputs": [],
   "source": [
    "from photutils.datasets import make_100gaussians_image\n",
    "data = make_100gaussians_image()\n",
    "\n",
    "import matplotlib.pyplot as plt\n",
    "from astropy.visualization import SqrtStretch\n",
    "from astropy.visualization.mpl_normalize import ImageNormalize\n",
    "norm = ImageNormalize(stretch=SqrtStretch())\n",
    "plt.imshow(data, norm=norm, origin='lower', cmap='Greys_r')"
   ]
  },
  {
   "cell_type": "code",
   "execution_count": null,
   "metadata": {},
   "outputs": [],
   "source": [
    "#####UPDATE INFORMATION HERE####\n",
    "#DO YOU WANT TO FLAT FIELD AND BIAS SUBTRACT?\n",
    "biassub = 0 # yes = 1 no = 0 to bias subtract\n",
    "flatdiv = 0 # yes = 1 no = 0 to flat field\n",
    "align = 1# yes = 1 no = 0 to align based on coordinates\n",
    "\n",
    "#useful directories\n",
    "rawdir = '/home/usuario/Documents/Mestrado/FFIs/8_golden/' #directory with the raw images\n",
    "cdedir = '/home/usuario/dia_kepler/mychanges/Python' #directory where the code 'lives'\n",
    "caldir = 'N/A' #directory with the calibration images such as bias & flat\n",
    "clndir = '/home/usuario/Documents/Mestrado/FFIs/8_golden/clean/'#directory for the cleaned images to be output"
   ]
  },
  {
   "cell_type": "code",
   "execution_count": null,
   "metadata": {},
   "outputs": [],
   "source": []
  }
 ],
 "metadata": {
  "kernelspec": {
   "display_name": "Python 3",
   "language": "python",
   "name": "python3"
  },
  "language_info": {
   "codemirror_mode": {
    "name": "ipython",
    "version": 3
   },
   "file_extension": ".py",
   "mimetype": "text/x-python",
   "name": "python",
   "nbconvert_exporter": "python",
   "pygments_lexer": "ipython3",
   "version": "3.6.5"
  }
 },
 "nbformat": 4,
 "nbformat_minor": 2
}
