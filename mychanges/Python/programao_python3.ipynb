{
 "cells": [
  {
   "cell_type": "markdown",
   "metadata": {},
   "source": [
    "# opening a fits"
   ]
  },
  {
   "cell_type": "markdown",
   "metadata": {},
   "source": [
    "### Há 53 FFIs ao total. Cada FFI possui 84 subfits (85 valores já que um é do header básico). Dentro de cada FFI vou achar o valor de background e modificar a matrizes para se tornarem quadradas. "
   ]
  },
  {
   "cell_type": "code",
   "execution_count": 1,
   "metadata": {},
   "outputs": [],
   "source": [
    "#https://archive.stsci.edu/kepler/ffi_display.php\n",
    "#https://photutils.readthedocs.io/en/stable/background.html\n",
    "\n",
    "#git fetch --all\n",
    "#git reset --hard origin/master\n",
    "# bibliotecas a serem baixadas\n",
    "%matplotlib inline                           \n",
    "%config InlineBackend.figure_format='retina'       # Melhora a resolucao do plot\n",
    "from IPython.core.display import display, HTML\n",
    "#display(HTML(\"<style>.container { width:100% !important; }</style>\"))\n",
    "import matplotlib.pylab as plt                     # Permite fazer plots utilizando o pacote matplotlib\n",
    "plt.rcParams['figure.figsize'] = (18.0, 18.0)      # Determina o tamanho do plot dentro do ipython notebook\n",
    "from astropy.io import fits, votable               # Permite carregar arquivos fits e votable\n",
    "from astropy.table import Table                    # Permite carregar tabelas\n",
    "from astropy import wcs                            # Importa o pacote World Coordinate System\n",
    "import numpy as np         \n",
    "\n",
    "#this program will apply the bias subtraction,\n",
    "#flat fielding and subtract the gradient background,\n",
    "#it will also align the images to the first image in the list\n",
    "\n",
    "#if you use this code, please cite Oelkers et al. 2015, AJ, 149, 50\n",
    "import scipy\n",
    "from scipy import stats\n",
    "import scipy.ndimage as ndimage\n",
    "import astropy\n",
    "from astropy.io import fits\n",
    "from astropy.nddata.utils import Cutout2D\n",
    "from astropy.wcs import WCS\n",
    "import math\n",
    "import time\n",
    "\n",
    "#libraries for image registration\n",
    "import FITS_tools\n",
    "from FITS_tools.hcongrid import hcongrid\n",
    "\n",
    "#import relevant libraries for a list\n",
    "import glob, os\n",
    "from os import listdir\n",
    "from os.path import isfile, join\n",
    "\n",
    "#import relevant spline libraries\n",
    "from scipy.interpolate import Rbf\n",
    "\n",
    "from astropy.stats import biweight_location\n",
    "\n",
    "#definir se é sonic ou usuario\n",
    "user = 'sonic'\n",
    "#user = 'usuario'"
   ]
  },
  {
   "cell_type": "markdown",
   "metadata": {},
   "source": [
    "## criar lista de ffis a serem abertos "
   ]
  },
  {
   "cell_type": "markdown",
   "metadata": {},
   "source": [
    "### programa em bash\n",
    "#!/usr/bin/env bash\n",
    "\n",
    "cd\n",
    "if [ -a golden.txt ];\n",
    "\tthen rm golden.txt\n",
    "fi\n",
    "\n",
    "#para printar os files sem os caminhos\n",
    "#find /home/sonic/Documents/Mestrado/FFIs/8_golden/*.fits -type f -execdir basename '{}' ';'  > /home/sonic/dia_kepler/mychanges/Python/golden.txt\n",
    "\n",
    "#para printar os files com os caminhos\n",
    "find /home/sonic/Documents/Mestrado/FFIs/8_golden/*.fits -type f > /home/sonic/dia_kepler/mychanges/Python/golden.txt\n",
    "\n",
    "find /home/sonic/Documents/Mestrado/FFIs/*.fits -type f > /home/sonic/dia_kepler/mychanges/Python/allffis.txt"
   ]
  },
  {
   "cell_type": "code",
   "execution_count": 2,
   "metadata": {},
   "outputs": [],
   "source": [
    "# criar uma função def para achar os arquivos\n"
   ]
  },
  {
   "cell_type": "code",
   "execution_count": 3,
   "metadata": {},
   "outputs": [
    {
     "data": {
      "text/plain": [
       "array(['/home/sonic/Documents/Mestrado/FFIs/kplr2009114174833_ffi-cal.fits',\n",
       "       '/home/sonic/Documents/Mestrado/FFIs/kplr2009114204835_ffi-cal.fits',\n",
       "       '/home/sonic/Documents/Mestrado/FFIs/kplr2009115002613_ffi-cal.fits',\n",
       "       '/home/sonic/Documents/Mestrado/FFIs/kplr2009115053616_ffi-cal.fits',\n",
       "       '/home/sonic/Documents/Mestrado/FFIs/kplr2009115080620_ffi-cal.fits',\n",
       "       '/home/sonic/Documents/Mestrado/FFIs/kplr2009115131122_ffi-cal.fits',\n",
       "       '/home/sonic/Documents/Mestrado/FFIs/kplr2009115173611_ffi-cal.fits',\n",
       "       '/home/sonic/Documents/Mestrado/FFIs/kplr2009116035924_ffi-cal.fits',\n",
       "       '/home/sonic/Documents/Mestrado/FFIs/kplr2009170043915_ffi-cal.fits',\n",
       "       '/home/sonic/Documents/Mestrado/FFIs/kplr2009231194831_ffi-cal.fits',\n",
       "       '/home/sonic/Documents/Mestrado/FFIs/kplr2009260000800_ffi-cal.fits',\n",
       "       '/home/sonic/Documents/Mestrado/FFIs/kplr2009292020429_ffi-cal.fits',\n",
       "       '/home/sonic/Documents/Mestrado/FFIs/kplr2009322233047_ffi-cal.fits',\n",
       "       '/home/sonic/Documents/Mestrado/FFIs/kplr2009351005245_ffi-cal.fits',\n",
       "       '/home/sonic/Documents/Mestrado/FFIs/kplr2010019225502_ffi-cal.fits',\n",
       "       '/home/sonic/Documents/Mestrado/FFIs/kplr2010020005046_ffi-cal.fits',\n",
       "       '/home/sonic/Documents/Mestrado/FFIs/kplr2010049182302_ffi-cal.fits',\n",
       "       '/home/sonic/Documents/Mestrado/FFIs/kplr2010078174524_ffi-cal.fits',\n",
       "       '/home/sonic/Documents/Mestrado/FFIs/kplr2010111125026_ffi-cal.fits',\n",
       "       '/home/sonic/Documents/Mestrado/FFIs/kplr2010140101631_ffi-cal.fits',\n",
       "       '/home/sonic/Documents/Mestrado/FFIs/kplr2010174164113_ffi-cal.fits',\n",
       "       '/home/sonic/Documents/Mestrado/FFIs/kplr2010203012215_ffi-cal.fits',\n",
       "       '/home/sonic/Documents/Mestrado/FFIs/kplr2010234192745_ffi-cal.fits',\n",
       "       '/home/sonic/Documents/Mestrado/FFIs/kplr2010265195356_ffi-cal.fits',\n",
       "       '/home/sonic/Documents/Mestrado/FFIs/kplr2010296192119_ffi-cal.fits',\n",
       "       '/home/sonic/Documents/Mestrado/FFIs/kplr2010326181728_ffi-cal.fits',\n",
       "       '/home/sonic/Documents/Mestrado/FFIs/kplr2010356020128_ffi-cal.fits',\n",
       "       '/home/sonic/Documents/Mestrado/FFIs/kplr2011024134926_ffi-cal.fits',\n",
       "       '/home/sonic/Documents/Mestrado/FFIs/kplr2011053174401_ffi-cal.fits',\n",
       "       '/home/sonic/Documents/Mestrado/FFIs/kplr2011116104002_ffi-cal.fits',\n",
       "       '/home/sonic/Documents/Mestrado/FFIs/kplr2011145152723_ffi-cal.fits',\n",
       "       '/home/sonic/Documents/Mestrado/FFIs/kplr2011177110110_ffi-cal.fits',\n",
       "       '/home/sonic/Documents/Mestrado/FFIs/kplr2011208112727_ffi-cal.fits',\n",
       "       '/home/sonic/Documents/Mestrado/FFIs/kplr2011240181752_ffi-cal.fits',\n",
       "       '/home/sonic/Documents/Mestrado/FFIs/kplr2011271191331_ffi-cal.fits',\n",
       "       '/home/sonic/Documents/Mestrado/FFIs/kplr2011303191211_ffi-cal.fits',\n",
       "       '/home/sonic/Documents/Mestrado/FFIs/kplr2011334181008_ffi-cal.fits',\n",
       "       '/home/sonic/Documents/Mestrado/FFIs/kplr2012004204112_ffi-cal.fits',\n",
       "       '/home/sonic/Documents/Mestrado/FFIs/kplr2012032101442_ffi-cal.fits',\n",
       "       '/home/sonic/Documents/Mestrado/FFIs/kplr2012060123308_ffi-cal.fits',\n",
       "       '/home/sonic/Documents/Mestrado/FFIs/kplr2012088132324_ffi-cal.fits',\n",
       "       '/home/sonic/Documents/Mestrado/FFIs/kplr2012121122500_ffi-cal.fits',\n",
       "       '/home/sonic/Documents/Mestrado/FFIs/kplr2012151105138_ffi-cal.fits',\n",
       "       '/home/sonic/Documents/Mestrado/FFIs/kplr2012179140901_ffi-cal.fits',\n",
       "       '/home/sonic/Documents/Mestrado/FFIs/kplr2012211123923_ffi-cal.fits',\n",
       "       '/home/sonic/Documents/Mestrado/FFIs/kplr2012242195726_ffi-cal.fits',\n",
       "       '/home/sonic/Documents/Mestrado/FFIs/kplr2012277203051_ffi-cal.fits',\n",
       "       '/home/sonic/Documents/Mestrado/FFIs/kplr2012310200152_ffi-cal.fits',\n",
       "       '/home/sonic/Documents/Mestrado/FFIs/kplr2012341215621_ffi-cal.fits',\n",
       "       '/home/sonic/Documents/Mestrado/FFIs/kplr2013011160902_ffi-cal.fits',\n",
       "       '/home/sonic/Documents/Mestrado/FFIs/kplr2013038133130_ffi-cal.fits',\n",
       "       '/home/sonic/Documents/Mestrado/FFIs/kplr2013065115251_ffi-cal.fits',\n",
       "       '/home/sonic/Documents/Mestrado/FFIs/kplr2013098115308_ffi-cal.fits'],\n",
       "      dtype='<U66')"
      ]
     },
     "execution_count": 3,
     "metadata": {},
     "output_type": "execute_result"
    }
   ],
   "source": [
    "arquivos = !find *.txt\n",
    "arquivos\n",
    "arq=[]\n",
    "for l in arquivos:\n",
    "    with open(l) as f:\n",
    "        arq.append(f.read().splitlines())\n",
    "for y in range(len(arq)):\n",
    "     arq[y] = np.sort(arq[y])\n",
    "allffis = arq[0]\n",
    "golden = arq[1]\n",
    "#allffis\n",
    "allffis\n"
   ]
  },
  {
   "cell_type": "markdown",
   "metadata": {},
   "source": [
    "## Achando background"
   ]
  },
  {
   "cell_type": "markdown",
   "metadata": {},
   "source": [
    "### Kepler CCD\n",
    "<img src=\"CCD_blockdiagram1.jpg\">\n",
    "### Tess CCD\n",
    "<img src=\"./tess_ccd.png\">"
   ]
  },
  {
   "cell_type": "code",
   "execution_count": 4,
   "metadata": {},
   "outputs": [],
   "source": [
    "# Rodar apenas uma vez\n",
    "## consertando as matrizes - cortando linhas e colunas ruins + transformando em matriz quadrada\n",
    "\n",
    "#from astropy.stats import sigma_clipped_stats\n",
    "# mean, median, std = sigma_clipped_stats(data, sigma=3.0)\n",
    "# print((mean, median, std)) \n",
    "#from astropy.stats import biweight_location\n",
    "#print(biweight_location(data)) \n",
    "for i in allffis:\n",
    "    hdul = fits.HDUList()\n",
    "    hdul.append(fits.PrimaryHDU())\n",
    "    hdulist = fits.open(i)\n",
    "    for j in range(1,len(hdulist)):#      cada uma das 84 imagens\n",
    "        data = hdulist[j].data\n",
    "        header = hdulist[j].header\n",
    "        header['NAXIS1']=1100\n",
    "        header['NAXIS2']=1024\n",
    "        header['CRPIX1']=546\n",
    "        header['CRPIX2']=542\n",
    "        #sky = biweight_location(data)\n",
    "        data2 = hdulist[j].data[20:1044,12:1112]\n",
    "        hdul.append(fits.ImageHDU(data2,header = header))\n",
    "\n",
    "        hdul.writeto('/home/' + user + '/Documents/Mestrado/FFIs/testeall/'+ i.split('/')[-1], overwrite=True)"
   ]
  },
  {
   "cell_type": "code",
   "execution_count": 5,
   "metadata": {},
   "outputs": [],
   "source": [
    "# # 1 fits com 84 imagens\n",
    "\n",
    "# user = 'usuario'\n",
    "# way='/home/' + user + '/Documents/Mestrado/FFIs/8_golden/teste/kplr2009114174833_ffi-cal.fits'\n",
    "# hdulist = fits.open(way)\n",
    "\n",
    "# hdul = fits.HDUList()\n",
    "# hdul.append(fits.PrimaryHDU())\n",
    "# for j in range(1,len(hdulist)):#      cada uma das 84 imagens\n",
    "#     data = hdulist[j].data\n",
    "#     header = hdulist[j].header\n",
    "#     header['NAXIS1']=1100\n",
    "#     header['NAXIS2']=1024\n",
    "#     header['CRPIX1']=546\n",
    "#     header['CRPIX2']=542\n",
    "#     #sky = biweight_location(data)\n",
    "#     data2 = hdulist[j].data[20:1044,12:1112]\n",
    "#     hdul.append(fits.ImageHDU(data2,header = header))\n",
    "    \n",
    "#     hdul.writeto('/home/' + user + '/Documents/Mestrado/FFIs/8_golden/teste/'+ way.split('/')[-1], overwrite=True)"
   ]
  },
  {
   "cell_type": "code",
   "execution_count": 9,
   "metadata": {},
   "outputs": [
    {
     "ename": "IndexError",
     "evalue": "index 5000 is out of bounds for axis 0 with size 1070",
     "output_type": "error",
     "traceback": [
      "\u001b[0;31m---------------------------------------------------------------------------\u001b[0m",
      "\u001b[0;31mIndexError\u001b[0m                                Traceback (most recent call last)",
      "\u001b[0;32m<ipython-input-9-5fccd85217cc>\u001b[0m in \u001b[0;36m<module>\u001b[0;34m()\u001b[0m\n\u001b[1;32m     13\u001b[0m \u001b[0;31m#hdulist = fits.open('/home/' + user + '/Documents/Mestrado/FFIs/kplr2009322233047_ffi-cal.fits')\u001b[0m\u001b[0;34m\u001b[0m\u001b[0;34m\u001b[0m\u001b[0m\n\u001b[1;32m     14\u001b[0m \u001b[0morgimg\u001b[0m\u001b[0;34m,\u001b[0m \u001b[0mheader\u001b[0m \u001b[0;34m=\u001b[0m \u001b[0mfits\u001b[0m\u001b[0;34m.\u001b[0m\u001b[0mgetdata\u001b[0m\u001b[0;34m(\u001b[0m\u001b[0mrawdir\u001b[0m\u001b[0;34m+\u001b[0m\u001b[0;34m'kplr2009322233047_ffi-cal.fits'\u001b[0m\u001b[0;34m,\u001b[0m \u001b[0mheader\u001b[0m \u001b[0;34m=\u001b[0m \u001b[0;32mTrue\u001b[0m\u001b[0;34m)\u001b[0m\u001b[0;34m\u001b[0m\u001b[0m\n\u001b[0;32m---> 15\u001b[0;31m \u001b[0mprint\u001b[0m\u001b[0;34m(\u001b[0m\u001b[0mlen\u001b[0m\u001b[0;34m(\u001b[0m\u001b[0morgimg\u001b[0m\u001b[0;34m[\u001b[0m\u001b[0;36m5000\u001b[0m\u001b[0;34m]\u001b[0m\u001b[0;34m)\u001b[0m\u001b[0;34m)\u001b[0m\u001b[0;34m\u001b[0m\u001b[0m\n\u001b[0m\u001b[1;32m     16\u001b[0m \u001b[0;31m# hdulist[1].header[0]\u001b[0m\u001b[0;34m\u001b[0m\u001b[0;34m\u001b[0m\u001b[0m\n\u001b[1;32m     17\u001b[0m \u001b[0;31m# #print(dict(a).keys())\u001b[0m\u001b[0;34m\u001b[0m\u001b[0;34m\u001b[0m\u001b[0m\n",
      "\u001b[0;31mIndexError\u001b[0m: index 5000 is out of bounds for axis 0 with size 1070"
     ]
    }
   ],
   "source": [
    "# # 1 CCD\n",
    "import scipy\n",
    "from scipy import stats\n",
    "import scipy.ndimage as ndimage\n",
    "import astropy\n",
    "from astropy.io import fits\n",
    "from astropy.nddata.utils import Cutout2D\n",
    "from astropy.wcs import WCS\n",
    "import math\n",
    "import time\n",
    "user = 'sonic'\n",
    "rawdir='/home/' + user + '/Documents/Mestrado/FFIs/'\n",
    "#hdulist = fits.open('/home/' + user + '/Documents/Mestrado/FFIs/kplr2009322233047_ffi-cal.fits')\n",
    "orgimg, header = fits.getdata(rawdir+'kplr2009322233047_ffi-cal.fits', header = True)\n",
    "print(len(orgimg[5000]))\n",
    "# hdulist[1].header[0]\n",
    "# #print(dict(a).keys())\n",
    "\n",
    "#j=10\n",
    "#hdulist[j].header\n",
    "# hdul = fits.HDUList()\n",
    "# hdul.append(fits.PrimaryHDU())\n",
    "# data = hdulist[j].data\n",
    "# header = hdulist[j].header\n",
    "# header['NAXIS1']=1100\n",
    "# header['NAXIS2']=1024\n",
    "# header['CRPIX1']=545\n",
    "# header['CRPIX2']=541\n",
    "# #sky = biweight_location(data)\n",
    "# data2 = hdulist[j].data[20:1044,12:1112]\n",
    "# hdul.append(fits.ImageHDU(data2,header = header))\n",
    "# hdul[1].header\n",
    "\n",
    "# #     hdul.writeto('/home/' + user + '/Documents/Mestrado/FFIs/8_golden/teste/'+ i.split('/')[-1]+'.fits', overwrite=True)\n",
    "# # hdulist = fits.open(i)"
   ]
  },
  {
   "cell_type": "code",
   "execution_count": 7,
   "metadata": {},
   "outputs": [],
   "source": [
    "#hdulist = fits.open('/home/' + user + '/Documents/Mestrado/FFIs/8_golden/teste/kplr2009114174833_ffi-cal.fits')\n",
    "#print(dict(hdulist[1].header).keys())"
   ]
  },
  {
   "cell_type": "code",
   "execution_count": 8,
   "metadata": {
    "scrolled": true
   },
   "outputs": [],
   "source": [
    "#from photutils.datasets import make_100gaussians_image\n",
    "#data = make_100gaussians_image()\n",
    "\n",
    "#import matplotlib.pyplot as plt\n",
    "#from astropy.visualization import SqrtStretch\n",
    "#from astropy.visualization.mpl_normalize import ImageNormalize\n",
    "#norm = ImageNormalize(stretch=SqrtStretch())\n",
    "#plt.imshow(data, norm=norm, origin='lower', cmap='Greys_r')"
   ]
  },
  {
   "cell_type": "code",
   "execution_count": null,
   "metadata": {},
   "outputs": [],
   "source": []
  }
 ],
 "metadata": {
  "kernelspec": {
   "display_name": "Python 3",
   "language": "python",
   "name": "python3"
  },
  "language_info": {
   "codemirror_mode": {
    "name": "ipython",
    "version": 3
   },
   "file_extension": ".py",
   "mimetype": "text/x-python",
   "name": "python",
   "nbconvert_exporter": "python",
   "pygments_lexer": "ipython3",
   "version": "3.6.4"
  }
 },
 "nbformat": 4,
 "nbformat_minor": 2
}
