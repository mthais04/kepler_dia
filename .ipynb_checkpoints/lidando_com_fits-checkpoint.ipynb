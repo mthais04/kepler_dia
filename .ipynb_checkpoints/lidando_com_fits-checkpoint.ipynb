{
 "cells": [
  {
   "cell_type": "markdown",
   "metadata": {},
   "source": [
    "Esta apresentação irá abordar os seguintes tópicos: \n",
    "\n",
    "* [1. Um pouco sobre os arquivos .fits](#1.-Um-pouco-sobre-os-arquivos-.fits)\n",
    "* [2. O pacote Astropy](#2.-O-pacote-Astropy)\n",
    "* [3. Abrindo um arquivo .fits](#3.-Abrindo-um-arquivo-.fits)\n",
    "* [4. Exibindo o tipo de conteúdo armazenado dentro dos arquivos .fits](#4.-Exibindo-o-tipo-de-conteúdo-armazenado-dentro-dos-arquivos-.fits)\n",
    "* [5. Exibir as informações contidas nos arquivos](#5.-Exibir-as-informações-contidas-nos-arquivos)\n",
    "* [6. Filtrando as informações contidas no Header dos arquivos](#6.-Filtrando-as-informações-contidas-no-Header-dos-arquivos)\n",
    "* [7. Editando o Header da imagem](#7.-Editando-o-Header-da-imagem)\n",
    "* [8. Exibir a tabela de dados contida no arquivos 2.fits](#8.-Exibir-a-tabela-de-dados-contida-no-arquivo-2.fits)\n",
    "* [9. Exibindo os espectros contidos no arquivo 2.fits](#9.-Exibindo-os-espectros-contidos-no-arquivo-2.fits)\n",
    "* [10. Exibindo a imagem do campo com o catálogo sobreposto \"via WCS\"](#10.-Exibindo-a-imagem-do-campo-com-o-catálogo-sobreposto-\"via-WCS\")\n",
    "* [11. Criando um arquivo .fits](#11.-Criando-um-arquivo-.fits)"
   ]
  },
  {
   "cell_type": "code",
   "execution_count": 1,
   "metadata": {},
   "outputs": [
    {
     "data": {
      "text/html": [
       "<style>.container { width:100% !important; }</style>"
      ],
      "text/plain": [
       "<IPython.core.display.HTML object>"
      ]
     },
     "metadata": {},
     "output_type": "display_data"
    }
   ],
   "source": [
    "%matplotlib inline                           \n",
    "%config InlineBackend.figure_format='retina'       # Melhora a resolucao do plot\n",
    "from IPython.core.display import display, HTML\n",
    "display(HTML(\"<style>.container { width:100% !important; }</style>\"))\n",
    "import matplotlib.pylab as plt                     # Permite fazer plots utilizando o pacote matplotlib\n",
    "plt.rcParams['figure.figsize'] = (18.0, 18.0)      # Determina o tamanho do plot dentro do ipython notebook\n",
    "from astropy.io import fits, votable               # Permite carregar arquivos fits e votable\n",
    "from astropy.table import Table                    # Permite carregar tabelas\n",
    "from astropy import wcs                            # Importa o pacote World Coordinate System\n",
    "import numpy as np         "
   ]
  },
  {
   "cell_type": "code",
   "execution_count": 2,
   "metadata": {},
   "outputs": [],
   "source": [
    "hdulist = fits.open('/home/usuario/Documents/Mestrado/FFIs/kplr2009114174833_ffi-cal.fits')"
   ]
  },
  {
   "cell_type": "code",
   "execution_count": 6,
   "metadata": {},
   "outputs": [],
   "source": [
    "#hdulist.info()"
   ]
  },
  {
   "cell_type": "code",
   "execution_count": 8,
   "metadata": {},
   "outputs": [],
   "source": [
    "header = hdulist[1].header\n",
    "#header"
   ]
  },
  {
   "cell_type": "code",
   "execution_count": 10,
   "metadata": {},
   "outputs": [
    {
     "data": {
      "text/plain": [
       "XTENSION= 'IMAGE   '           / marks the beginning of a new HDU               \n",
       "BITPIX  =                  -32 / array data type                                \n",
       "NAXIS   =                    2 / NAXIS                                          \n",
       "NAXIS1  =                 1132 / length of first array dimension                \n",
       "NAXIS2  =                 1070 / length of second array dimension               \n",
       "PCOUNT  =                    0 / group parameter count (not used)               \n",
       "GCOUNT  =                    1 / group count (not used)                         \n",
       "INHERIT =                    T / inherit the primary header                     \n",
       "EXTNAME = 'MOD.OUT 2.1'        / name of extension                              \n",
       "EXTVER  =                    1 / extension version number (not format version)  \n",
       "TELESCOP= 'Kepler  '           / telescope                                      \n",
       "INSTRUME= 'Kepler Photometer'  / detector type                                  \n",
       "CHANNEL =                    1 / CCD channel                                    \n",
       "SKYGROUP=                   29 / roll-independent location of channel           \n",
       "MODULE  =                    2 / CCD module                                     \n",
       "OUTPUT  =                    1 / CCD output                                     \n",
       "TIMEREF = 'SOLARSYSTEM'        / barycentric correction applied to times        \n",
       "TASSIGN = 'SPACECRAFT'         / where time is assigned                         \n",
       "TIMESYS = 'TDB     '           / time system is barycentric JD                  \n",
       "MJDSTART=       54945.72162632 / [d] start of observation in spacecraft MJD     \n",
       "MJDEND  =          54945.74206 / [d] end of observation in spacecraft MJD       \n",
       "BJDREFI =              2454833 / integer part of BJD reference date             \n",
       "BJDREFF =           0.00000000 / fraction of the day in BJD reference date      \n",
       "TIMEUNIT= 'd       '           / time unit for TIME, TSTART and TSTOP           \n",
       "TSTART  =         113.22285860 / observation start time in BJD-BJDREF           \n",
       "TSTOP   =         113.24329228 / observation stop time in BJD-BJDREF            \n",
       "TELAPSE =           0.02043368 / [d] TSTOP - TSTART                             \n",
       "EXPOSURE=           0.01881196 / [d] time on source                             \n",
       "LIVETIME=           0.01881196 / [d] TELAPSE multiplied by DEADC                \n",
       "DEADC   =           0.92063492 / deadtime correction                            \n",
       "TIMEPIXR=                  0.5 / bin time beginning=0 middle=0.5 end=1          \n",
       "TIERRELA=             5.78E-07 / [d] relative time error                        \n",
       "INT_TIME=       6.019820000000 / [s] photon accumulation time per frame         \n",
       "READTIME=       0.518950000000 / [s] readout time per frame                     \n",
       "FRAMETIM=    6.538770000000001 / [s] frame time (INT_TIME + READTIME)           \n",
       "NUM_FRM =                  270 / number of frames per time stamp                \n",
       "FGSFRPER=               103.79 /  [ms] FGS frame period                         \n",
       "NUMFGSFP=                   58 / number of FGS frame periods per exposure       \n",
       "TIMEDEL =           0.02043368 / [d] time resolution of data                    \n",
       "DATE-OBS= '2009-04-24T17:19:08.514Z' / TSTART as UTC calendar date              \n",
       "DATE-END= '2009-04-24T17:48:33.984Z' / TSTOP as UTC calendar date               \n",
       "BTC_PIX1=                536.0 / reference col for barycentric time correction  \n",
       "BTC_PIX2=                567.0 / reference row for barycentric time correction  \n",
       "BUNIT   = 'electrons/s'        / physical units of image data                   \n",
       "BARYCORR=        1.2322847E-03 / [d] barycentric time correction                \n",
       "BACKAPP =                    F / background is subtracted                       \n",
       "DEADAPP =                    T / deadtime applied                               \n",
       "VIGNAPP =                    T / vignetting or collimator correction applied    \n",
       "READNOIS=            87.604748 / [electrons] read noise                         \n",
       "NREADOUT=                  270 / number of read per cadence                     \n",
       "TIMSLICE=                    4 / time-slice readout sequence section            \n",
       "MEANBLCK=                727.0 / [count] FSW mean black level                   \n",
       "RADESYS = 'ICRS    '           / reference frame of celestial coordinates       \n",
       "EQUINOX =               2000.0 / equinox of celestial coordinate system         \n",
       "WCSAXES =                    2 / number of WCS axes                             \n",
       "CTYPE1  = 'RA---TAN-SIP'       / Gnomonic projection + SIP distortions          \n",
       "CTYPE2  = 'DEC--TAN-SIP'       / Gnomonic projection + SIP distortions          \n",
       "CRVAL1  =    282.0238935016608 / RA at CRPIX1, CRPIX2                           \n",
       "CRVAL2  =    44.33441588616024 / DEC at CRPIX1, CRPIX2                          \n",
       "CRPIX1  =                533.0 / X reference pixel                              \n",
       "CRPIX2  =                521.0 / Y reference pixel                              \n",
       "CD1_1   = 6.952304158259602E-4 / Transformation matrix                          \n",
       "CD1_2   =  -0.0008589627144176 / Transformation matrix                          \n",
       "CD2_1   =  -0.0008585294428100 / Transformation matrix                          \n",
       "CD2_2   =  -0.0006946812902767 / Transformation matrix                          \n",
       "A_ORDER =                    2 / Polynomial order, axis 1                       \n",
       "B_ORDER =                    2 / Polynomial order, axis 2                       \n",
       "A_2_0   = 6.235060374910846E-7 / distortion coefficient                         \n",
       "A_0_2   =   1.418925038118E-07 / distortion coefficient                         \n",
       "A_1_1   = 5.602282128883635E-7 / distortion coefficient                         \n",
       "B_2_0   = 1.314349136283107E-7 / distortion coefficient                         \n",
       "B_0_2   = 6.664877655850138E-7 / distortion coefficient                         \n",
       "B_1_1   = 4.936545872831603E-7 / distortion coefficient                         \n",
       "AP_ORDER=                    2 / Inv polynomial order, axis 1                   \n",
       "BP_ORDER=                    2 / Inv polynomial order, axis 2                   \n",
       "AP_1_0  =  -1.588339620048E-06 / inv distortion coefficient                     \n",
       "AP_0_1  =  -1.183593496230E-06 / inv distortion coefficient                     \n",
       "AP_2_0  =  -6.125370987050E-07 / inv distortion coefficient                     \n",
       "AP_0_2  =  -1.528351229343E-07 / inv distortion coefficient                     \n",
       "AP_1_1  =  -5.560955662795E-07 / inv distortion coefficient                     \n",
       "BP_1_0  =   1.129268384400E-06 / inv distortion coefficient                     \n",
       "BP_0_1  =  -8.046150740047E-08 / inv distortion coefficient                     \n",
       "BP_2_0  =  -1.338672702875E-07 / inv distortion coefficient                     \n",
       "BP_0_2  =  -6.692778161882E-07 / inv distortion coefficient                     \n",
       "BP_1_1  =  -4.912942186630E-07 / inv distortion coefficient                     \n",
       "A_DMAX  =   0.4129709911313739 / maximum distortion, axis 1                     \n",
       "B_DMAX  =   0.3711342436454288 / maximum distortion, axis 2                     \n",
       "WCSNAMEP= 'PHYSICAL'           / name of world coordinate system alternate P    \n",
       "WCSAXESP=                    2 / number of WCS physical axes                    \n",
       "CTYPE1P = 'RAWX    '           / physical WCS axis 1 type CCD col               \n",
       "CUNIT1P = 'PIXEL   '           / physical WCS axis 1 unit                       \n",
       "CRPIX1P =                    1 / reference CCD column                           \n",
       "CRVAL1P =                    0 / value at reference CCD column                  \n",
       "CDELT1P =                  1.0 / physical WCS axis 1 step                       \n",
       "CTYPE2P = 'RAWY    '           / physical WCS axis 2 type CCD row               \n",
       "CUNIT2P = 'PIXEL   '           / physical WCS axis 2 units                      \n",
       "CRPIX2P =                    1 / reference CCD row                              \n",
       "CRVAL2P =                    0 / value at reference CCD row                     \n",
       "CDELT2P =                  1.0 / physical WCS axis 2 step                       \n",
       "CHECKSUM= '92AbF14a919aE19a'   / HDU checksum updated 2013-05-13T16:59:32Z      "
      ]
     },
     "execution_count": 10,
     "metadata": {},
     "output_type": "execute_result"
    }
   ],
   "source": [
    "hdulist[1].header"
   ]
  },
  {
   "cell_type": "code",
   "execution_count": null,
   "metadata": {
    "collapsed": true
   },
   "outputs": [],
   "source": []
  }
 ],
 "metadata": {
  "kernelspec": {
   "display_name": "Python 2",
   "language": "python",
   "name": "python2"
  },
  "language_info": {
   "codemirror_mode": {
    "name": "ipython",
    "version": 2
   },
   "file_extension": ".py",
   "mimetype": "text/x-python",
   "name": "python",
   "nbconvert_exporter": "python",
   "pygments_lexer": "ipython2",
   "version": "2.7.15"
  }
 },
 "nbformat": 4,
 "nbformat_minor": 2
}
